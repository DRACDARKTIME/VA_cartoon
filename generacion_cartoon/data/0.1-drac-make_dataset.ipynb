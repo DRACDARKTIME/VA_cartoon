{
 "cells": [
  {
   "cell_type": "code",
   "execution_count": 113,
   "metadata": {},
   "outputs": [
    {
     "name": "stdout",
     "output_type": "stream",
     "text": [
      "The autoreload extension is already loaded. To reload it, use:\n",
      "  %reload_ext autoreload\n"
     ]
    }
   ],
   "source": [
    "%load_ext autoreload\n",
    "%autoreload 2"
   ]
  },
  {
   "cell_type": "code",
   "execution_count": 114,
   "metadata": {},
   "outputs": [],
   "source": [
    "import generacion_cartoon.utils.paths as path\n",
    "import os\n",
    "import generacion_cartoon.utils.funtions as funtions"
   ]
  },
  {
   "cell_type": "code",
   "execution_count": 115,
   "metadata": {},
   "outputs": [],
   "source": [
    "for name in ['train', 'test', 'validation']:\n",
    "    if path.data_processed_dir(name).exists() == False:\n",
    "        os.makedirs(path.data_processed_dir(name))\n"
   ]
  },
  {
   "cell_type": "code",
   "execution_count": 116,
   "metadata": {},
   "outputs": [],
   "source": [
    "data_path = path.data_processed_dir('cartoon_png')\n",
    "name_png = os.listdir(data_path)"
   ]
  },
  {
   "cell_type": "code",
   "execution_count": 117,
   "metadata": {},
   "outputs": [],
   "source": [
    "train, val, test = funtions.split_dataset(name_png)"
   ]
  },
  {
   "cell_type": "code",
   "execution_count": 118,
   "metadata": {},
   "outputs": [],
   "source": [
    "for name,lista in zip([train,test,val], ['train','test','validation']):\n",
    "    funtions.move_files(\n",
    "        path_source=data_path,\n",
    "        path_destination=path.data_processed_dir(lista),\n",
    "        name_list=name)"
   ]
  },
  {
   "cell_type": "code",
   "execution_count": 119,
   "metadata": {},
   "outputs": [],
   "source": [
    "import matplotlib.pyplot as plt\n",
    "import tensorflow as tf\n",
    "import numpy as np\n"
   ]
  },
  {
   "cell_type": "code",
   "execution_count": 120,
   "metadata": {},
   "outputs": [],
   "source": [
    "def make_dir_longname(name):\n",
    "    list_dir = path.data_processed_dir(name)\n",
    "    dir_name = [os.path.join(list_dir,name_file) for name_file in os.listdir(list_dir)]\n",
    "    return dir_name"
   ]
  },
  {
   "cell_type": "code",
   "execution_count": 121,
   "metadata": {},
   "outputs": [],
   "source": [
    "train_dir = make_dir_longname(\"train\")\n",
    "val_dir = make_dir_longname(\"validation\")\n",
    "test_dir = make_dir_longname(\"test\")"
   ]
  },
  {
   "cell_type": "code",
   "execution_count": 154,
   "metadata": {},
   "outputs": [],
   "source": [
    "train_ds = funtions.make_dataset(train_dir)\n",
    "val_ds   = funtions.make_dataset(val_dir)\n",
    "test_ds  = funtions.make_dataset(test_dir)\n"
   ]
  },
  {
   "cell_type": "code",
   "execution_count": 162,
   "metadata": {},
   "outputs": [
    {
     "name": "stdout",
     "output_type": "stream",
     "text": [
      "Number of batches of 32 images train_ds: 250\n",
      "Number of batches of 32 images validation_ds: 32\n",
      "Number of batches of 32 images test_ds: 32\n"
     ]
    }
   ],
   "source": [
    "datasets = {\n",
    "    \"train\": train_ds,\n",
    "    \"validation\": val_ds,\n",
    "    \"test\": test_ds\n",
    "}\n",
    "\n",
    "for name, ds in datasets.items():\n",
    "    count = tf.data.experimental.cardinality(ds).numpy()\n",
    "    print(f\"Number of batches of 32 images {name}_ds: {count}\")"
   ]
  },
  {
   "cell_type": "code",
   "execution_count": 172,
   "metadata": {},
   "outputs": [
    {
     "data": {
      "image/png": "[encoded data removed]",
      "text/plain": [
       "<Figure size 640x480 with 1 Axes>"
      ]
     },
     "metadata": {},
     "output_type": "display_data"
    }
   ],
   "source": [
    "for i in train_ds:\n",
    "    plt.imshow(i[0])\n",
    "    plt.show()\n",
    "    break"
   ]
  }
 ],
 "metadata": {
  "kernelspec": {
   "display_name": "generacion_cartoon",
   "language": "python",
   "name": "python3"
  },
  "language_info": {
   "codemirror_mode": {
    "name": "ipython",
    "version": 3
   },
   "file_extension": ".py",
   "mimetype": "text/x-python",
   "name": "python",
   "nbconvert_exporter": "python",
   "pygments_lexer": "ipython3",
   "version": "3.9.19"
  }
 },
 "nbformat": 4,
 "nbformat_minor": 2
}
