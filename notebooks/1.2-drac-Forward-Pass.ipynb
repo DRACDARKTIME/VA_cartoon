{
 "cells": [
  {
   "cell_type": "code",
   "execution_count": null,
   "metadata": {},
   "outputs": [],
   "source": [
    "#Encoding Fuction\n",
    "#Reparameterization\n",
    "#Decoding Funtion\n",
    "#Sampling Function"
   ]
  }
 ],
 "metadata": {
  "language_info": {
   "name": "python"
  }
 },
 "nbformat": 4,
 "nbformat_minor": 2
}
