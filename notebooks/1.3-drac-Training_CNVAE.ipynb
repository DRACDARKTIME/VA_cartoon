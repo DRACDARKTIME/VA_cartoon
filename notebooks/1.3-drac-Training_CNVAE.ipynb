{
 "cells": [
  {
   "cell_type": "code",
   "execution_count": 44,
   "metadata": {},
   "outputs": [],
   "source": [
    "%reload_ext autoreload\n",
    "%autoreload 2"
   ]
  },
  {
   "cell_type": "code",
   "execution_count": 45,
   "metadata": {},
   "outputs": [
    {
     "name": "stdout",
     "output_type": "stream",
     "text": [
      "The autoreload extension is already loaded. To reload it, use:\n",
      "  %reload_ext autoreload\n",
      "Number of batches of 32 images train_ds: 250\n",
      "Number of batches of 32 images validation_ds: 32\n",
      "Number of batches of 32 images test_ds: 32\n"
     ]
    },
    {
     "data": {
      "image/png": "[encoded data removed]",
      "text/plain": [
       "<Figure size 640x480 with 1 Axes>"
      ]
     },
     "metadata": {},
     "output_type": "display_data"
    }
   ],
   "source": [
    "%run \"../generacion_cartoon/data/0.1-drac-make_dataset.ipynb\"\n",
    "import generacion_cartoon.utils.paths as path\n",
    "import notebooks.drac_CNVAE_gradient as CNVAE\n",
    "import generacion_cartoon.visualization.visualize_CNVAE as visualize \n",
    "import tensorflow as tf\n",
    "import time\n",
    "import numpy as np"
   ]
  },
  {
   "cell_type": "code",
   "execution_count": 46,
   "metadata": {},
   "outputs": [
    {
     "name": "stdout",
     "output_type": "stream",
     "text": [
      "GPUs available: 1\n"
     ]
    }
   ],
   "source": [
    "print(\"GPUs available:\", len(tf.config.list_physical_devices('GPU')))"
   ]
  },
  {
   "cell_type": "code",
   "execution_count": 47,
   "metadata": {},
   "outputs": [],
   "source": [
    "import mlflow\n",
    "import dagshub"
   ]
  },
  {
   "cell_type": "code",
   "execution_count": 78,
   "metadata": {},
   "outputs": [],
   "source": [
    "params ={'latent_dim':2,\n",
    " 'epochs':30,\n",
    " 'epsilon':1e-3,\n",
    " 'alpha':1.0, #reconstruction_loss\n",
    " 'beta':1.0,  #grad_decoded_loss\n",
    " 'gamma':1.0} #center_loss\n",
    "\n",
    "model = CNVAE.CNVAE(latent_dim=params['latent_dim'], alpha=params['alpha'],beta=params['beta'],gamma=params['gamma'])"
   ]
  },
  {
   "cell_type": "code",
   "execution_count": 79,
   "metadata": {},
   "outputs": [],
   "source": [
    "name_model = f'model_NL_CNVAE__epochs={params[\"epochs\"]}_epsilon{params[\"epsilon\"]}_alpha={params[\"alpha\"]}_beta{params[\"beta\"]}_gamma{params[\"gamma\"]}.weights.h5'\n",
    "path_models = path.models_dir(name_model)"
   ]
  },
  {
   "cell_type": "code",
   "execution_count": null,
   "metadata": {},
   "outputs": [],
   "source": [
    "dagshub.init(repo_owner='DRACDARKTIME', repo_name='VA_cartoon', mlflow=True)\n",
    "mlflow.set_experiment(\"LossFuntion_CNVAE_alpha_beta_gamma\")\n",
    "mlflow.start_run()\n",
    "mlflow.log_params(params)\n",
    "\n",
    "tf.config.run_functions_eagerly(True)\n",
    "visualize.plot_latent_images(model=model, num_images_x=20, epoch=0)\n",
    "\n",
    "optimizer = tf.keras.optimizers.Adam(params['epsilon'])\n",
    "best_total_loss = 100000\n",
    "count = 0\n",
    "patience = 10\n",
    "for epoch in range(1, params['epochs'] + 1):\n",
    "    start_time = time.time()\n",
    "\n",
    "    for idx, train_x in enumerate(train_ds):\n",
    "        model.train_step(train_x, optimizer)\n",
    "\n",
    "        if epoch == 1 and idx % 75 == 0:\n",
    "            visualize.plot_latent_images(model=model,\n",
    "            num_images_x=20,\n",
    "            epoch=epoch,\n",
    "            first_epoch=True,\n",
    "            f_ep_count=idx)      \n",
    "\n",
    "    end_time = time.time()\n",
    "    loss = tf.keras.metrics.Mean()\n",
    "    loss1 = tf.keras.metrics.Mean()\n",
    "    loss2 = tf.keras.metrics.Mean()\n",
    "    loss3 = tf.keras.metrics.Mean()\n",
    "    for test_x in test_ds:\n",
    "        total_loss, reconstruction_loss, center_loss, grad_decoded_loss =model.compute_loss(test_x)\n",
    "        loss(total_loss)\n",
    "        loss1(reconstruction_loss)\n",
    "        loss2(center_loss)\n",
    "        loss3(grad_decoded_loss)\n",
    "    total_loss = loss.result()\n",
    "    reconstruction_loss = loss1.result()\n",
    "    center_loss = loss2.result()\n",
    "    grad_decoded_loss = loss3.result()\n",
    "    if total_loss < best_total_loss:\n",
    "        best_total_loss = total_loss\n",
    "        model.save_weights(path_models)\n",
    "        print('Best model saved with best ELBO: {:.2f}'.format(total_loss))\n",
    "        count=0\n",
    "    else:\n",
    "        count = count + 1\n",
    "    mlflow.log_metric('total_loss_test', total_loss, step = epoch)\n",
    "    mlflow.log_metric('reconstruction_loss', reconstruction_loss, step = epoch)\n",
    "    mlflow.log_metric('center_loss', center_loss, step = epoch)\n",
    "    mlflow.log_metric('grad_decodad_loss', grad_decoded_loss, step = epoch)\n",
    "    print('Epoch: {}, Test set total_loss: {:.2f}, reconstruction_loss: {:.2f}, grad_decoded_loss: {:.2f},center_loss: {:.2f}, time_epoch: {:.2f}'\n",
    "        .format(epoch, total_loss,reconstruction_loss,grad_decoded_loss,center_loss, end_time - start_time))\n",
    "    if epoch != 1:\n",
    "        visualize.plot_latent_images(model=model, num_images_x= 20, epoch=epoch)\n",
    "    if count == patience:\n",
    "        break\n",
    "#mlflow.tensorflow.log_model(model, 'model')        \n",
    "mlflow.end_run()\n",
    "name_gif = f'grid_CNVAE_epochs={params[\"epochs\"]}_epsilon{params[\"epsilon\"]}_alpha={params[\"alpha\"]}_beta{params[\"beta\"]}_gamma{params[\"gamma\"]}.gif'\n",
    "visualize.create_gif(name_gif=name_gif, path_save_gif=path.data_created_dir('cnvae'))"
   ]
  },
  {
   "cell_type": "code",
   "execution_count": 83,
   "metadata": {},
   "outputs": [
    {
     "name": "stderr",
     "output_type": "stream",
     "text": [
      "2024/10/25 07:44:21 INFO mlflow.tracking._tracking_service.client: 🏃 View run persistent-ape-769 at: https://dagshub.com/DRACDARKTIME/VA_cartoon.mlflow/#/experiments/2/runs/91d53e357ed74429b72df85cbb39e26a.\n",
      "2024/10/25 07:44:21 INFO mlflow.tracking._tracking_service.client: 🧪 View experiment at: https://dagshub.com/DRACDARKTIME/VA_cartoon.mlflow/#/experiments/2.\n"
     ]
    }
   ],
   "source": [
    "\n",
    "mlflow.end_run()"
   ]
  },
  {
   "cell_type": "code",
   "execution_count": 72,
   "metadata": {},
   "outputs": [],
   "source": [
    "model.load_weights(path_models)"
   ]
  },
  {
   "cell_type": "code",
   "execution_count": 75,
   "metadata": {},
   "outputs": [
    {
     "data": {
      "image/png": "[encoded data removed]",
      "text/plain": [
       "<Figure size 640x480 with 1 Axes>"
      ]
     },
     "metadata": {},
     "output_type": "display_data"
    },
    {
     "data": {
      "image/png": "[encoded data removed]",
      "text/plain": [
       "<Figure size 640x480 with 1 Axes>"
      ]
     },
     "metadata": {},
     "output_type": "display_data"
    }
   ],
   "source": [
    "visualize.plot_img_original_generated(model=model,num_img=10,test_ds=test_ds)"
   ]
  },
  {
   "cell_type": "code",
   "execution_count": 74,
   "metadata": {},
   "outputs": [],
   "source": [
    "visualize.plot_latent_images(model=model, num_images_x= 20, epoch=2, stan_des= 1, mean=0.02)"
   ]
  }
 ],
 "metadata": {
  "kernelspec": {
   "display_name": "cartoon4",
   "language": "python",
   "name": "python3"
  },
  "language_info": {
   "codemirror_mode": {
    "name": "ipython",
    "version": 3
   },
   "file_extension": ".py",
   "mimetype": "text/x-python",
   "name": "python",
   "nbconvert_exporter": "python",
   "pygments_lexer": "ipython3",
   "version": "3.9.19"
  }
 },
 "nbformat": 4,
 "nbformat_minor": 2
}
