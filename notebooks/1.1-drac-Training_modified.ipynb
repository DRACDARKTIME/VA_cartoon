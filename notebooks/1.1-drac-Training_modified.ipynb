{
 "cells": [
  {
   "cell_type": "code",
   "execution_count": 5,
   "metadata": {},
   "outputs": [],
   "source": [
    "%reload_ext autoreload\n",
    "%autoreload 2"
   ]
  },
  {
   "cell_type": "code",
   "execution_count": 10,
   "metadata": {},
   "outputs": [
    {
     "name": "stdout",
     "output_type": "stream",
     "text": [
      "The autoreload extension is already loaded. To reload it, use:\n",
      "  %reload_ext autoreload\n",
      "Number of batches of 32 images train_ds: 250\n",
      "Number of batches of 32 images validation_ds: 32\n",
      "Number of batches of 32 images test_ds: 32\n"
     ]
    },
    {
     "data": {
      "image/png": "[encoded data removed]",
      "text/plain": [
       "<Figure size 640x480 with 1 Axes>"
      ]
     },
     "metadata": {},
     "output_type": "display_data"
    }
   ],
   "source": [
    "import generacion_cartoon.utils.paths as path\n",
    "import notebooks.drac_CVAE_modified as CVAE\n",
    "import tensorflow as tf\n",
    "import imageio\n",
    "import tensorflow_probability as tfp\n",
    "%run \"../generacion_cartoon/data/0.1-drac-make_dataset.ipynb\"\n",
    "import time\n",
    "import numpy as np\n",
    "import glob\n"
   ]
  },
  {
   "cell_type": "code",
   "execution_count": 7,
   "metadata": {},
   "outputs": [
    {
     "name": "stderr",
     "output_type": "stream",
     "text": [
      "/home/dracdarktime/anaconda3/envs/generacion_cartoon/lib/python3.9/site-packages/keras/src/layers/core/input_layer.py:26: UserWarning: Argument `input_shape` is deprecated. Use `shape` instead.\n",
      "  warnings.warn(\n"
     ]
    }
   ],
   "source": [
    "latent_dim = 2\n",
    "\n",
    "epochs = 30\n",
    "\n",
    "model = CVAE.CVAE(latent_dim)"
   ]
  },
  {
   "cell_type": "code",
   "execution_count": 99,
   "metadata": {},
   "outputs": [],
   "source": [
    "def plot_latent_images(model, num_images_x, epoch, im_size=56, save=True, first_epoch=False, f_ep_count=0):\n",
    "    \n",
    "    # Create image matrix \n",
    "    image_width = im_size*num_images_x\n",
    "    image_height = image_width\n",
    "    image = np.zeros((image_height, image_width))\n",
    "\n",
    "    # Create list of values which are evenly spaced wrt probability mass\n",
    "\n",
    "    norm = tfp.distributions.Normal(0, 1)\n",
    "    grid_x = norm.quantile(np.linspace(0.05, 0.95, num_images_x))\n",
    "    grid_y = norm.quantile(np.linspace(0.05, 0.95, num_images_x))\n",
    "\n",
    "    # For each point on the grid in the latent space, decode and\n",
    "    # copy the image into the image array\n",
    "    for i, yi in enumerate(grid_x):\n",
    "        for j, xi in enumerate(grid_y):\n",
    "            z = np.array([[xi, yi]])\n",
    "            x_decoded = model.sample(z)\n",
    "            digit = tf.reshape(x_decoded[0], (im_size, im_size))\n",
    "            image[i * im_size: (i + 1) * im_size,\n",
    "                  j * im_size: (j + 1) * im_size] = digit.numpy()\n",
    "    \n",
    "\n",
    "    # Plot the image array\n",
    "    plt.figure(figsize=(10, 10))\n",
    "    plt.imshow(image, cmap='Greys_r')\n",
    "    plt.axis('Off')\n",
    "\n",
    "    # Potentially save, with different formatting if within first epoch\n",
    "    if save and first_epoch:\n",
    "        name = 'tf_grid_at_epoch_{:04d}.{:04d}.png'.format(epoch, f_ep_count)\n",
    "        plt.savefig(path.data_created_dir(name))\n",
    "    elif save:\n",
    "        name = 'tf_grid_at_epoch_{:04d}.png'.format(epoch)\n",
    "        plt.savefig(path.data_created_dir(name))"
   ]
  },
  {
   "cell_type": "code",
   "execution_count": null,
   "metadata": {},
   "outputs": [],
   "source": [
    "tf.config.run_functions_eagerly(True)\n",
    "plot_latent_images(model=model, num_images_x=20, epoch=0)\n",
    "\n",
    "optimizer = tf.keras.optimizers.Adam(1e-4)\n",
    "for epoch in range(1, epochs + 1):\n",
    "    start_time = time.time()\n",
    "    for idx, train_x in enumerate(train_ds):\n",
    "        CVAE.train_step(model, train_x, optimizer)\n",
    "        if epoch == 1 and idx % 75 == 0:\n",
    "            plot_latent_images(model=model, num_images_x=20, epoch=epoch, first_epoch=True, f_ep_count=idx)          \n",
    "    end_time = time.time()\n",
    "    loss = tf.keras.metrics.Mean()\n",
    "    for test_x in test_ds:\n",
    "        loss(CVAE.compute_loss(model, test_x))\n",
    "    elbo = -loss.result()\n",
    "    #display.clear_output(wait=False)\n",
    "    print('Epoch: {}, Test set ELBO: {}, time elapse for current epoch: {}'\n",
    "        .format(epoch, elbo, end_time - start_time))\n",
    "    if epoch != 1:\n",
    "        plot_latent_images(model, 20, epoch=epoch)"
   ]
  },
  {
   "cell_type": "code",
   "execution_count": 103,
   "metadata": {},
   "outputs": [
    {
     "name": "stdout",
     "output_type": "stream",
     "text": [
      "tf_grid_at_epoch_0000.png\n",
      "tf_grid_at_epoch_0001.0000.png\n",
      "tf_grid_at_epoch_0001.0075.png\n",
      "tf_grid_at_epoch_0001.0150.png\n",
      "tf_grid_at_epoch_0001.0225.png\n",
      "tf_grid_at_epoch_0002.png\n",
      "tf_grid_at_epoch_0003.png\n",
      "tf_grid_at_epoch_0004.png\n",
      "tf_grid_at_epoch_0005.png\n",
      "tf_grid_at_epoch_0006.png\n",
      "tf_grid_at_epoch_0007.png\n",
      "tf_grid_at_epoch_0008.png\n",
      "tf_grid_at_epoch_0009.png\n",
      "tf_grid_at_epoch_0010.png\n"
     ]
    },
    {
     "name": "stderr",
     "output_type": "stream",
     "text": [
      "/tmp/ipykernel_276751/3283973344.py:8: DeprecationWarning: Starting with ImageIO v3 the behavior of this function will switch to that of iio.v3.imread. To keep the current behavior (and make this warning disappear) use `import imageio.v2 as imageio` or call `imageio.v2.imread` directly.\n",
      "  image = imageio.imread(filename)\n"
     ]
    },
    {
     "name": "stdout",
     "output_type": "stream",
     "text": [
      "tf_grid_at_epoch_0011.png\n",
      "tf_grid_at_epoch_0012.png\n",
      "tf_grid_at_epoch_0013.png\n",
      "tf_grid_at_epoch_0014.png\n",
      "tf_grid_at_epoch_0015.png\n",
      "tf_grid_at_epoch_0016.png\n",
      "tf_grid_at_epoch_0017.png\n",
      "tf_grid_at_epoch_0018.png\n",
      "tf_grid_at_epoch_0019.png\n",
      "tf_grid_at_epoch_0020.png\n",
      "tf_grid_at_epoch_0021.png\n",
      "tf_grid_at_epoch_0022.png\n",
      "tf_grid_at_epoch_0023.png\n",
      "tf_grid_at_epoch_0024.png\n",
      "tf_grid_at_epoch_0025.png\n",
      "tf_grid_at_epoch_0026.png\n",
      "tf_grid_at_epoch_0027.png\n",
      "tf_grid_at_epoch_0028.png\n",
      "tf_grid_at_epoch_0029.png\n",
      "tf_grid_at_epoch_0030.png\n"
     ]
    },
    {
     "name": "stderr",
     "output_type": "stream",
     "text": [
      "/tmp/ipykernel_276751/3283973344.py:10: DeprecationWarning: Starting with ImageIO v3 the behavior of this function will switch to that of iio.v3.imread. To keep the current behavior (and make this warning disappear) use `import imageio.v2 as imageio` or call `imageio.v2.imread` directly.\n",
      "  image = imageio.imread(filename)\n"
     ]
    }
   ],
   "source": [
    "anim_file = path.data_created_dir('grid.gif')\n",
    "with imageio.get_writer(anim_file, mode='I') as writer:\n",
    "    filenames = glob.glob('tf_grid*.png')\n",
    "    filenames = sorted(filenames)\n",
    "    for filename in filenames:\n",
    "        print(filename)\n",
    "        image = imageio.imread(filename)\n",
    "        writer.append_data(image)\n",
    "    image = imageio.imread(filename)\n",
    "    writer.append_data(image)"
   ]
  },
  {
   "cell_type": "code",
   "execution_count": 11,
   "metadata": {},
   "outputs": [],
   "source": [
    "path_models = path.models_dir(\"model_modified_30epochs.weights.h5\")"
   ]
  },
  {
   "cell_type": "code",
   "execution_count": null,
   "metadata": {},
   "outputs": [],
   "source": [
    "# Guardar los pesos del modelo\n",
    "model.save_weights(path_models)\n"
   ]
  },
  {
   "cell_type": "code",
   "execution_count": 12,
   "metadata": {},
   "outputs": [],
   "source": [
    "model.load_weights(path_models)"
   ]
  },
  {
   "cell_type": "code",
   "execution_count": 13,
   "metadata": {},
   "outputs": [
    {
     "data": {
      "image/png": "[encoded data removed]",
      "text/plain": [
       "<Figure size 640x480 with 1 Axes>"
      ]
     },
     "metadata": {},
     "output_type": "display_data"
    },
    {
     "data": {
      "image/png": "[encoded data removed]",
      "text/plain": [
       "<Figure size 640x480 with 1 Axes>"
      ]
     },
     "metadata": {},
     "output_type": "display_data"
    }
   ],
   "source": [
    "for img in test_ds:\n",
    "    mean, logvar = model.encode(img)\n",
    "    z = model.reparameterize(mean, logvar)\n",
    "    generated_image = model.decode(z, apply_sigmoid=True)\n",
    "    num_img = 10\n",
    "    plt.imshow(img[num_img], cmap='gray')\n",
    "    plt.axis('off')\n",
    "    plt.show()\n",
    "\n",
    "    plt.imshow(generated_image[num_img].numpy().squeeze(), cmap='gray')\n",
    "    plt.axis('off')\n",
    "    plt.show()\n",
    "    break"
   ]
  },
  {
   "cell_type": "code",
   "execution_count": 25,
   "metadata": {},
   "outputs": [
    {
     "name": "stdout",
     "output_type": "stream",
     "text": [
      "tf.Tensor([ 1 56 56  1], shape=(4,), dtype=int32)\n",
      "\n",
      "tf.Tensor([56 56  1], shape=(3,), dtype=int32)\n"
     ]
    }
   ],
   "source": [
    "num_images_x = 20\n",
    "norm = tfp.distributions.Normal(0, 1)\n",
    "grid_x = norm.quantile(np.linspace(0.05, 0.95, num_images_x))\n",
    "grid_y = norm.quantile(np.linspace(0.05, 0.95, num_images_x))\n",
    "# For each point on the grid in the latent space, decode and\n",
    "# copy the image into the image array\n",
    "for i, yi in enumerate(grid_x):\n",
    "    for j, xi in enumerate(grid_y):\n",
    "        z = np.array([[xi, yi]])\n",
    "        x_decoded = model.sample(z)\n",
    "        print(tf.shape(x_decoded))\n",
    "        #print(x_decoded)\n",
    "        print()\n",
    "        #print(x_decoded[0])\n",
    "        print(tf.shape(x_decoded[0]))\n",
    "        break\n",
    "    break"
   ]
  }
 ],
 "metadata": {
  "kernelspec": {
   "display_name": "generacion_cartoon",
   "language": "python",
   "name": "python3"
  },
  "language_info": {
   "codemirror_mode": {
    "name": "ipython",
    "version": 3
   },
   "file_extension": ".py",
   "mimetype": "text/x-python",
   "name": "python",
   "nbconvert_exporter": "python",
   "pygments_lexer": "ipython3",
   "version": "3.9.19"
  }
 },
 "nbformat": 4,
 "nbformat_minor": 2
}
