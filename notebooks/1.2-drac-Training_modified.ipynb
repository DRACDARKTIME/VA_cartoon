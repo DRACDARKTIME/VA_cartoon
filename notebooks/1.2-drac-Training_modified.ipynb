{
 "cells": [
  {
   "cell_type": "code",
   "execution_count": 36,
   "metadata": {},
   "outputs": [],
   "source": [
    "%reload_ext autoreload\n",
    "%autoreload 2"
   ]
  },
  {
   "cell_type": "code",
   "execution_count": 37,
   "metadata": {},
   "outputs": [
    {
     "name": "stdout",
     "output_type": "stream",
     "text": [
      "The autoreload extension is already loaded. To reload it, use:\n",
      "  %reload_ext autoreload\n",
      "Number of batches of 32 images train_ds: 250\n",
      "Number of batches of 32 images validation_ds: 32\n",
      "Number of batches of 32 images test_ds: 32\n"
     ]
    },
    {
     "data": {
      "image/png": "[encoded data removed]",
      "text/plain": [
       "<Figure size 640x480 with 1 Axes>"
      ]
     },
     "metadata": {},
     "output_type": "display_data"
    }
   ],
   "source": [
    "%run \"../generacion_cartoon/data/0.1-drac-make_dataset.ipynb\"\n",
    "import generacion_cartoon.utils.paths as path\n",
    "import notebooks.drac_CVAE_modified as CVAE\n",
    "import generacion_cartoon.visualization.visualize as visualize \n",
    "import tensorflow as tf\n",
    "import time\n",
    "import numpy as np"
   ]
  },
  {
   "cell_type": "code",
   "execution_count": 38,
   "metadata": {},
   "outputs": [
    {
     "name": "stdout",
     "output_type": "stream",
     "text": [
      "GPUs available: 1\n"
     ]
    }
   ],
   "source": [
    "print(\"GPUs available:\", len(tf.config.list_physical_devices('GPU')))"
   ]
  },
  {
   "cell_type": "code",
   "execution_count": 39,
   "metadata": {},
   "outputs": [],
   "source": [
    "import mlflow\n",
    "import dagshub"
   ]
  },
  {
   "cell_type": "code",
   "execution_count": 40,
   "metadata": {},
   "outputs": [],
   "source": [
    "params ={'latent_dim':2,\n",
    " 'epochs':150,\n",
    " 'gamma':0.00075,\n",
    " 'beta':1.0,\n",
    " 'epsilon':1e-6}\n",
    "\n",
    "model = CVAE.CVAE(latent_dim=params['latent_dim'],\n",
    "  gamma=params['gamma'],\n",
    "  beta=params['beta'])"
   ]
  },
  {
   "cell_type": "code",
   "execution_count": 41,
   "metadata": {},
   "outputs": [],
   "source": [
    "name_model = f'model_modified_gamma={params[\"gamma\"]}_beta={params[\"beta\"]}_epochs={params[\"epochs\"]}.weights.h5'\n",
    "path_models = path.models_dir(name_model)"
   ]
  },
  {
   "cell_type": "code",
   "execution_count": null,
   "metadata": {},
   "outputs": [],
   "source": [
    "dagshub.init(repo_owner='DRACDARKTIME', repo_name='VA_cartoon', mlflow=True)\n",
    "mlflow.set_experiment(\"LossFuntion_Modified_gamma_beta\")\n",
    "mlflow.start_run()\n",
    "mlflow.log_params(params)\n",
    "\n",
    "tf.config.run_functions_eagerly(True)\n",
    "visualize.plot_latent_images(model=model, num_images_x=20, epoch=0)\n",
    "\n",
    "optimizer = tf.keras.optimizers.Adam(params['epsilon'])\n",
    "best_elbo = -100000\n",
    "count = 0\n",
    "patience = 10\n",
    "for epoch in range(1, params['epochs'] + 1):\n",
    "    start_time = time.time()\n",
    "\n",
    "    for idx, train_x in enumerate(train_ds):\n",
    "        CVAE.train_step(model, train_x, optimizer)\n",
    "\n",
    "        if epoch == 1 and idx % 75 == 0:\n",
    "            visualize.plot_latent_images(model=model,\n",
    "            num_images_x=20,\n",
    "            epoch=epoch,\n",
    "            first_epoch=True,\n",
    "            f_ep_count=idx)      \n",
    "\n",
    "    end_time = time.time()\n",
    "    loss = tf.keras.metrics.Mean()\n",
    "    for test_x in test_ds:\n",
    "        loss(CVAE.compute_loss(model, test_x))\n",
    "    elbo = -loss.result()\n",
    "    if elbo > best_elbo:\n",
    "        best_elbo = elbo\n",
    "        model.save_weights(path_models)\n",
    "        print('Best model saved with best ELBO: {:.2f}'.format(elbo))\n",
    "        count=0\n",
    "    else:\n",
    "        count = count + 1\n",
    "    mlflow.log_metric('elbo_loss_test', elbo, step = epoch)\n",
    "    print('Epoch: {}, Test set ELBO: {:.2f}, time elapse for current epoch: {:.2f}'\n",
    "        .format(epoch, elbo, end_time - start_time))\n",
    "    if epoch != 1:\n",
    "        visualize.plot_latent_images(model=model, num_images_x= 20, epoch=epoch)\n",
    "    if count == patience:\n",
    "        break\n",
    "#mlflow.tensorflow.log_model(model, 'model')        \n",
    "mlflow.end_run()"
   ]
  },
  {
   "cell_type": "code",
   "execution_count": 43,
   "metadata": {},
   "outputs": [],
   "source": [
    "\n",
    "#mlflow.end_run()"
   ]
  },
  {
   "cell_type": "code",
   "execution_count": 44,
   "metadata": {},
   "outputs": [],
   "source": [
    "name_gif = f'grid_modified_gamma={params[\"gamma\"]}_beta={params[\"beta\"]}_epoch={params[\"epochs\"]}.gif'\n",
    "visualize.create_gif(name_gif=name_gif)\n"
   ]
  },
  {
   "cell_type": "code",
   "execution_count": 45,
   "metadata": {},
   "outputs": [],
   "source": [
    "model.load_weights(path_models)"
   ]
  },
  {
   "cell_type": "code",
   "execution_count": 46,
   "metadata": {},
   "outputs": [
    {
     "data": {
      "image/png": "[encoded data removed]",
      "text/plain": [
       "<Figure size 640x480 with 1 Axes>"
      ]
     },
     "metadata": {},
     "output_type": "display_data"
    },
    {
     "data": {
      "image/png": "[encoded data removed]",
      "text/plain": [
       "<Figure size 640x480 with 1 Axes>"
      ]
     },
     "metadata": {},
     "output_type": "display_data"
    }
   ],
   "source": [
    "visualize.plot_img_original_generated(model=model,num_img=10,test_ds=test_ds)"
   ]
  }
 ],
 "metadata": {
  "kernelspec": {
   "display_name": "generacion_cartoon",
   "language": "python",
   "name": "python3"
  },
  "language_info": {
   "codemirror_mode": {
    "name": "ipython",
    "version": 3
   },
   "file_extension": ".py",
   "mimetype": "text/x-python",
   "name": "python",
   "nbconvert_exporter": "python",
   "pygments_lexer": "ipython3",
   "version": "3.9.19"
  }
 },
 "nbformat": 4,
 "nbformat_minor": 2
}
